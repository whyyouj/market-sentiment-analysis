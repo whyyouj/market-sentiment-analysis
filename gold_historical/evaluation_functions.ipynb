{
 "cells": [
  {
   "cell_type": "code",
   "execution_count": 1,
   "metadata": {},
   "outputs": [],
   "source": [
    "import pandas as pd\n",
    "import numpy as np\n",
    "import matplotlib.pyplot as plt"
   ]
  },
  {
   "cell_type": "markdown",
   "metadata": {},
   "source": [
    "# Simple Metrics"
   ]
  },
  {
   "cell_type": "code",
   "execution_count": 2,
   "metadata": {},
   "outputs": [],
   "source": [
    "# MAPE\n",
    "def mean_absolute_percentage_error(y_true, y_pred):\n",
    "    \"\"\"\n",
    "    Calculate Mean Absolute Percentage Error.\n",
    "    \n",
    "    Parameters:\n",
    "        y_true (array): Actual values\n",
    "        y_pred (array): Predicted values\n",
    "        \n",
    "    Returns:\n",
    "        float: MAPE value as percentage\n",
    "    \"\"\"\n",
    "    y_true, y_pred = np.array(y_true), np.array(y_pred)\n",
    "    return np.mean(np.abs((y_pred - y_true) / y_true)) * 100\n",
    "\n",
    "# MSE\n",
    "def mean_squared_error(y_true, y_pred):\n",
    "    return np.mean((y_true - y_pred) ** 2)\n",
    "\n",
    "# RMSE\n",
    "def mean_squared_error(y_true, y_pred):\n",
    "    return np.sqrt(np.mean((y_true - y_pred) ** 2))"
   ]
  },
  {
   "cell_type": "markdown",
   "metadata": {},
   "source": [
    "# Directional Accuracy"
   ]
  },
  {
   "cell_type": "code",
   "execution_count": 3,
   "metadata": {},
   "outputs": [],
   "source": [
    "def directional_accuracy(y_true, y_pred):\n",
    "        y_true_changes = np.diff(y_true)\n",
    "        y_pred_changes = np.diff(y_pred)\n",
    "        correct_direction = (y_true_changes * y_pred_changes) > 0\n",
    "        return np.mean(correct_direction) * 100"
   ]
  },
  {
   "cell_type": "markdown",
   "metadata": {},
   "source": [
    "# Simple Trading Strategy"
   ]
  },
  {
   "cell_type": "code",
   "execution_count": 4,
   "metadata": {},
   "outputs": [],
   "source": [
    "def backtest_trading_strategy(y_true, y_pred, initial_capital=10000):\n",
    "    \"\"\"\n",
    "    Simple backtest of a trading strategy based on predictions\n",
    "    \"\"\"\n",
    "    capital = initial_capital\n",
    "    position = 0  # 0: no position, 1: long\n",
    "    trades = []\n",
    "    equity_curve = [capital]\n",
    "    \n",
    "    for i in range(1, len(y_true)):\n",
    "        # Strategy: Buy if prediction is up, sell if prediction is down\n",
    "        pred_direction = y_pred[i] > y_pred[i-1]\n",
    "        \n",
    "        # Execute trades\n",
    "        if pred_direction and position == 0:  # Buy signal\n",
    "            position = 1\n",
    "            entry_price = y_true[i]\n",
    "            trades.append(('BUY', i, entry_price))\n",
    "        elif not pred_direction and position == 1:  # Sell signal\n",
    "            position = 0\n",
    "            exit_price = y_true[i]\n",
    "            profit = exit_price - trades[-1][2]  # Current price - entry price\n",
    "            capital += profit * (initial_capital / trades[-1][2])  # Scale by position size\n",
    "            trades.append(('SELL', i, exit_price, profit))\n",
    "        \n",
    "        # Update equity curve\n",
    "        if position == 1:\n",
    "            # If holding, update equity with unrealized gains/losses\n",
    "            current_value = capital + (y_true[i] - trades[-1][2]) * (initial_capital / trades[-1][2])\n",
    "            equity_curve.append(current_value)\n",
    "        else:\n",
    "            equity_curve.append(capital)\n",
    "    \n",
    "    # Calculate performance metrics\n",
    "    returns = (capital - initial_capital) / initial_capital * 100\n",
    "    \n",
    "    # Calculate Sharpe ratio (simplified)\n",
    "    daily_returns = np.diff(equity_curve) / np.array(equity_curve[:-1])\n",
    "    sharpe_ratio = np.mean(daily_returns) / np.std(daily_returns) * np.sqrt(252)  # Annualized\n",
    "    \n",
    "    # Plot equity curve\n",
    "    plt.figure(figsize=(14, 7))\n",
    "    plt.plot(equity_curve)\n",
    "    plt.xlabel('Time')\n",
    "    plt.ylabel('Capital')\n",
    "    plt.title(f'Equity Curve (Return: {returns:.2f}%, Sharpe: {sharpe_ratio:.2f})')\n",
    "    plt.grid(True)\n",
    "    plt.show()\n",
    "    \n",
    "    print(f\"Final capital: ${capital:.2f}\")\n",
    "    print(f\"Return: {returns:.2f}%\")\n",
    "    print(f\"Sharpe Ratio: {sharpe_ratio:.2f}\")\n",
    "    print(f\"Number of trades: {len(trades) // 2}\")\n",
    "    \n",
    "    return trades, equity_curve"
   ]
  }
 ],
 "metadata": {
  "kernelspec": {
   "display_name": ".is3107",
   "language": "python",
   "name": "python3"
  },
  "language_info": {
   "codemirror_mode": {
    "name": "ipython",
    "version": 3
   },
   "file_extension": ".py",
   "mimetype": "text/x-python",
   "name": "python",
   "nbconvert_exporter": "python",
   "pygments_lexer": "ipython3",
   "version": "3.11.2"
  }
 },
 "nbformat": 4,
 "nbformat_minor": 2
}
